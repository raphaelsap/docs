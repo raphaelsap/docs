{
  "metadata": {
    "kaggle": {
      "accelerator": "nvidiaTeslaT4",
      "dataSources": [
        {
          "sourceId": 73231,
          "databundleVersionId": 8133715,
          "sourceType": "competition"
        },
        {
          "sourceId": 7369493,
          "sourceType": "datasetVersion",
          "datasetId": 4281572
        },
        {
          "sourceId": 8012825,
          "sourceType": "datasetVersion",
          "datasetId": 4720595
        },
        {
          "sourceId": 8023365,
          "sourceType": "datasetVersion",
          "datasetId": 4728129
        },
        {
          "sourceId": 5112,
          "sourceType": "modelInstanceVersion",
          "modelInstanceId": 3900
        },
        {
          "sourceId": 5994,
          "sourceType": "modelInstanceVersion",
          "modelInstanceId": 4761
        },
        {
          "sourceId": 11382,
          "sourceType": "modelInstanceVersion",
          "modelInstanceId": 8318
        },
        {
          "sourceId": 11394,
          "sourceType": "modelInstanceVersion",
          "modelInstanceId": 8332
        }
      ],
      "dockerImageVersionId": 30674,
      "isInternetEnabled": false,
      "language": "python",
      "sourceType": "notebook",
      "isGpuEnabled": true
    },
    "kernelspec": {
      "display_name": "Python 3",
      "language": "python",
      "name": "python3"
    },
    "language_info": {
      "codemirror_mode": {
        "name": "ipython",
        "version": 3
      },
      "file_extension": ".py",
      "mimetype": "text/x-python",
      "name": "python",
      "nbconvert_exporter": "python",
      "pygments_lexer": "ipython3",
      "version": "3.10.13"
    },
    "papermill": {
      "default_parameters": {},
      "duration": 724.728315,
      "end_time": "2024-02-29T09:37:08.760349",
      "environment_variables": {},
      "exception": null,
      "input_path": "__notebook__.ipynb",
      "output_path": "__notebook__.ipynb",
      "parameters": {},
      "start_time": "2024-02-29T09:25:04.032034",
      "version": "2.5.0"
    },
    "colab": {
      "provenance": [],
      "include_colab_link": true
    }
  },
  "nbformat_minor": 0,
  "nbformat": 4,
  "cells": [
    {
      "cell_type": "markdown",
      "metadata": {
        "id": "view-in-github",
        "colab_type": "text"
      },
      "source": [
        "<a href=\"https://colab.research.google.com/github/raphaelsap/docs/blob/main/AIMO_Raphael_Caillon.ipynb\" target=\"_parent\"><img src=\"https://colab.research.google.com/assets/colab-badge.svg\" alt=\"Open In Colab\"/></a>"
      ]
    },
    {
      "source": [
        "import os\n",
        "import sys\n",
        "from tempfile import NamedTemporaryFile\n",
        "from urllib.request import urlopen\n",
        "from urllib.parse import unquote, urlparse\n",
        "from urllib.error import HTTPError\n",
        "from zipfile import ZipFile\n",
        "import tarfile\n",
        "import shutil\n",
        "\n",
        "CHUNK_SIZE = 40960\n",
        "DATA_SOURCE_MAPPING = 'ai-mathematical-olympiad-prize:https%3A%2F%2Fstorage.googleapis.com%2Fkaggle-competitions-data%2Fkaggle-v2%2F73231%2F8133715%2Fbundle%2Farchive.zip%3FX-Goog-Algorithm%3DGOOG4-RSA-SHA256%26X-Goog-Credential%3Dgcp-kaggle-com%2540kaggle-161607.iam.gserviceaccount.com%252F20240416%252Fauto%252Fstorage%252Fgoog4_request%26X-Goog-Date%3D20240416T134853Z%26X-Goog-Expires%3D259200%26X-Goog-SignedHeaders%3Dhost%26X-Goog-Signature%3D67f65ac9f63d67e5a89a6f325366c2e4fa1d41a8f5e417b3d91494bee2e6e7d904221c53f29448b49821e1dcc259f2f1f7199e94ba9387594d366106cbdbbdc882ead492058899872895b970b59ec99e9da0a483c58f53f9a36b7fc71dc01ff587d9d6f5c698577c159ca5d6fe50526079bf4fe14ce52b73d6dca485cd5a6add15897377bf9dea9ee988d7ec423b1ebff552a69e99c2537c0b96c583d9a30d679ef2d65af76bb252650000d4675d0cdb464083a96d0d77f26ce0fdfb705eff40c72cb91609bd5bf4474d98ea8df42ced12bd5f15f2889fce13fb13cb049c8f9444f3b948a22d81637fd24ee6e54fd7dc97bf14bbbd681a723db77b18ba514998,bitsandbytes-0-42-0-py3-none-any-whl:https%3A%2F%2Fstorage.googleapis.com%2Fkaggle-data-sets%2F4281572%2F7369493%2Fbundle%2Farchive.zip%3FX-Goog-Algorithm%3DGOOG4-RSA-SHA256%26X-Goog-Credential%3Dgcp-kaggle-com%2540kaggle-161607.iam.gserviceaccount.com%252F20240416%252Fauto%252Fstorage%252Fgoog4_request%26X-Goog-Date%3D20240416T134853Z%26X-Goog-Expires%3D259200%26X-Goog-SignedHeaders%3Dhost%26X-Goog-Signature%3De3256077b92f61aa6323976984adf0ebb58c8e524d6ef78a8803b2584be1f4b1d21f4d15e8deb33c9b46b9b44fa06cfa6e40189859b1bc56f762d91bae1da73d2e38b2f0ccb96da79847f831afb19d66fcd96a2efbaf75481ed377de76659f8ffd056e68ed4fc6f17567417b9c89f1983490e7b67534f3bb63829ba5f7b1718bfcb2f8afa8e1503389168900707b8c96a036aa39a79f226755a50adf000c5054a54b41c0cda1cd7b8d28aee480596d2bafd52812325dfb250339dcb5f51ce461bec0d86b3f9d211ed7bc1cc4c5231ebef909e47fb91580a707a32d3fff6eb95b8da6e415aec3224ad4b1e8a7538dbe9abb1a04dff6f6e4034949463daa924af5,open-math-mistral:https%3A%2F%2Fstorage.googleapis.com%2Fkaggle-data-sets%2F4720595%2F8012825%2Fbundle%2Farchive.zip%3FX-Goog-Algorithm%3DGOOG4-RSA-SHA256%26X-Goog-Credential%3Dgcp-kaggle-com%2540kaggle-161607.iam.gserviceaccount.com%252F20240416%252Fauto%252Fstorage%252Fgoog4_request%26X-Goog-Date%3D20240416T134853Z%26X-Goog-Expires%3D259200%26X-Goog-SignedHeaders%3Dhost%26X-Goog-Signature%3Dd67c36dab0d4783a8523d465884195abcfafa40ebc4e8f3c2c912db4fdd5eaa0d98bf0d40251b10a14baf727290b1291e0152791cce61a3897c81214e0e38694559d9f48087d0f9b5a4a5f59faa3550569ccd47076ef28dfeeaaf59927c6e3f66a689c1c4a87988599332d43a0cf08a2fe635fe9823d73ed7b1c0c29e4446db7e089dc4281d27aef8c078995a7fe51406597680ad6155bf3617f9e62c83e8cf7f90616ff69e1bced448f33f552d543a28cf28ed4cc3e853fe1d66c781d55c9eb2eeb4f4c31042ff3cbb17284412cf16437fb1b703d1b70de687e529ceadb2ac59e9dd5ed29079e4b58ea8dc65ae127e684c00cda4669c313d9e2026921a7cd7e,deepseek-math:https%3A%2F%2Fstorage.googleapis.com%2Fkaggle-data-sets%2F4728129%2F8023365%2Fbundle%2Farchive.zip%3FX-Goog-Algorithm%3DGOOG4-RSA-SHA256%26X-Goog-Credential%3Dgcp-kaggle-com%2540kaggle-161607.iam.gserviceaccount.com%252F20240416%252Fauto%252Fstorage%252Fgoog4_request%26X-Goog-Date%3D20240416T134853Z%26X-Goog-Expires%3D259200%26X-Goog-SignedHeaders%3Dhost%26X-Goog-Signature%3D2ef90bc2d0e0c850bc7641ce21a3052219b04eadfaf45690f1f98c43413d5155487f88d0a3fd68987167e43c2b4d6360fd3dbf5f49c152af812b191e192960b91ac57285873ae6973c7412d4c91b3011aedc8ffaac8a2240357bc208e8c24ec545e75e86717ced35e1681683f82b2f518d6b88bcdf912049c5f88e10a795429d0afb70314eb14130c823b3156eeb98a4fa49ba6500fd3ebacbfd9ded13cebf2d813a9b89bdf25c96d50813db7566fa47a82853ebfdb42ab06c3b2323f61713dea622f8a231d59c3883deabeeeaf605637a6abb78e94112fd509620ed22ea5c66d38664850d00b9896531c7bab0591a688cf364c70edfd17d6ddbc318b9e60b37,mistral/pytorch/7b-instruct-v0.1-hf/1:https%3A%2F%2Fstorage.googleapis.com%2Fkaggle-models-data%2F3900%2F5112%2Fbundle%2Farchive.tar.gz%3FX-Goog-Algorithm%3DGOOG4-RSA-SHA256%26X-Goog-Credential%3Dgcp-kaggle-com%2540kaggle-161607.iam.gserviceaccount.com%252F20240416%252Fauto%252Fstorage%252Fgoog4_request%26X-Goog-Date%3D20240416T134853Z%26X-Goog-Expires%3D259200%26X-Goog-SignedHeaders%3Dhost%26X-Goog-Signature%3D1dae5b0d59b1957530253cebe150972a01355bfd205961094cf6c674d8190aceceb38e6dd881925037a6d2abeb1e0941b3694a5a8cdbbe3321aefbe6d8a89a25d15da91ecf20c0b6bfa57dd0e75b0c11c5fe3515d5a6973246e60fd135f5d3db447b7f8cc5f4a9176a2f4cf5613519f7abcb13abe4eab6ccc17bc70eef48b077895eef17f22fc827c9970d7bafc28ee65e9d73b06477cb7bff62d9ffbf19f892b578a43d000562af8b1db5ee96e03f6c7101afb883dacd23ec5046f68cd9f3c7954004b328316aabda2e8c0a67d43472336b6e32d161dc66c33b16775db1cffe27964e36feb60bf65a74d864fadb87f3c38865d340154314b1ba05f1b9bae690,mixtral/pytorch/8x7b-instruct-v0.1-hf/1:https%3A%2F%2Fstorage.googleapis.com%2Fkaggle-models-data%2F4761%2F5994%2Fbundle%2Farchive.tar.gz%3FX-Goog-Algorithm%3DGOOG4-RSA-SHA256%26X-Goog-Credential%3Dgcp-kaggle-com%2540kaggle-161607.iam.gserviceaccount.com%252F20240416%252Fauto%252Fstorage%252Fgoog4_request%26X-Goog-Date%3D20240416T134853Z%26X-Goog-Expires%3D259200%26X-Goog-SignedHeaders%3Dhost%26X-Goog-Signature%3Dcf1575596c5e28fae7178a4e20308790b3f2eeed6cea9e80d548cdab4c68a56afd780b88402cfba013b260a914e74af64f085967d7e5435b35ffc46c628d67672b158365fbd390c55311a05ff71996eb3a6dd2666d98216240120f1cf7b643222585796c195d5a576ecf91d9e5e6e90107af6dbd8f4b41e8ed7db87f57b73a907ace2ce0b4a6248c306269a1a331bc2f5a40548dc87a602cc693ae96c45a5caf30f4856fbe8e72e7229b29a42137d64f0471b8743501d502a825294375c074741de5cceb18a214e85fb035594476136b57395b8042bf72eabba5652a5503fa1f6e7fd35ccac502555c96371f6f9f89ed156c463391eaf3343516280e283745e1'\n",
        "\n",
        "KAGGLE_INPUT_PATH='/kaggle/input'\n",
        "KAGGLE_WORKING_PATH='/kaggle/working'\n",
        "KAGGLE_SYMLINK='kaggle'\n",
        "\n",
        "!umount /kaggle/input/ 2> /dev/null\n",
        "shutil.rmtree('/kaggle/input', ignore_errors=True)\n",
        "os.makedirs(KAGGLE_INPUT_PATH, 0o777, exist_ok=True)\n",
        "os.makedirs(KAGGLE_WORKING_PATH, 0o777, exist_ok=True)\n",
        "\n",
        "try:\n",
        "  os.symlink(KAGGLE_INPUT_PATH, os.path.join(\"..\", 'input'), target_is_directory=True)\n",
        "except FileExistsError:\n",
        "  pass\n",
        "try:\n",
        "  os.symlink(KAGGLE_WORKING_PATH, os.path.join(\"..\", 'working'), target_is_directory=True)\n",
        "except FileExistsError:\n",
        "  pass\n",
        "\n",
        "for data_source_mapping in DATA_SOURCE_MAPPING.split(','):\n",
        "    directory, download_url_encoded = data_source_mapping.split(':')\n",
        "    download_url = unquote(download_url_encoded)\n",
        "    filename = urlparse(download_url).path\n",
        "    destination_path = os.path.join(KAGGLE_INPUT_PATH, directory)\n",
        "    try:\n",
        "        with urlopen(download_url) as fileres, NamedTemporaryFile() as tfile:\n",
        "            total_length = fileres.headers['content-length']\n",
        "            print(f'Downloading {directory}, {total_length} bytes compressed')\n",
        "            dl = 0\n",
        "            data = fileres.read(CHUNK_SIZE)\n",
        "            while len(data) > 0:\n",
        "                dl += len(data)\n",
        "                tfile.write(data)\n",
        "                done = int(50 * dl / int(total_length))\n",
        "                sys.stdout.write(f\"\\r[{'=' * done}{' ' * (50-done)}] {dl} bytes downloaded\")\n",
        "                sys.stdout.flush()\n",
        "                data = fileres.read(CHUNK_SIZE)\n",
        "            if filename.endswith('.zip'):\n",
        "              with ZipFile(tfile) as zfile:\n",
        "                zfile.extractall(destination_path)\n",
        "            else:\n",
        "              with tarfile.open(tfile.name) as tarfile:\n",
        "                tarfile.extractall(destination_path)\n",
        "            print(f'\\nDownloaded and uncompressed: {directory}')\n",
        "    except HTTPError as e:\n",
        "        print(f'Failed to load (likely expired) {download_url} to path {destination_path}')\n",
        "        continue\n",
        "    except OSError as e:\n",
        "        print(f'Failed to load {download_url} to path {destination_path}')\n",
        "        continue\n",
        "\n",
        "print('Data source import complete.')\n"
      ],
      "metadata": {
        "id": "bDkeXWNNKviQ",
        "colab": {
          "base_uri": "https://localhost:8080/"
        },
        "outputId": "3c8ddb47-ad8a-46c9-ec16-00b4920ea141"
      },
      "cell_type": "code",
      "outputs": [
        {
          "output_type": "stream",
          "name": "stdout",
          "text": [
            "Downloading ai-mathematical-olympiad-prize, 119437 bytes compressed\n",
            "[==================================================] 119437 bytes downloaded\n",
            "Downloaded and uncompressed: ai-mathematical-olympiad-prize\n",
            "Downloading bitsandbytes-0-42-0-py3-none-any-whl, 103419797 bytes compressed\n",
            "[==================================================] 103419797 bytes downloaded\n",
            "Downloaded and uncompressed: bitsandbytes-0-42-0-py3-none-any-whl\n",
            "Downloading open-math-mistral, 11458991910 bytes compressed\n",
            "[==================================================] 11458991910 bytes downloaded\n",
            "Downloaded and uncompressed: open-math-mistral\n",
            "Downloading deepseek-math, 10946764350 bytes compressed\n",
            "[==================================================] 10946764350 bytes downloaded\n",
            "Downloaded and uncompressed: deepseek-math\n",
            "Downloading mistral/pytorch/7b-instruct-v0.1-hf/1, 11936623935 bytes compressed\n",
            "[==================================================] 11936623935 bytes downloaded\n",
            "Downloaded and uncompressed: mistral/pytorch/7b-instruct-v0.1-hf/1\n",
            "Downloading mixtral/pytorch/8x7b-instruct-v0.1-hf/1, 151325921199 bytes compressed\n",
            "[====                                              ] 13915299840 bytes downloaded"
          ]
        }
      ],
      "execution_count": null
    },
    {
      "cell_type": "code",
      "source": [
        "# credits:\n",
        "# https://www.kaggle.com/code/olyatsimboy/aimo-openmath-mistral-baseline\n",
        "# https://www.kaggle.com/code/aatiffraz/prompt-prediction-w-mixtral-mistral7b-gemma-llama\n",
        "# https://www.kaggle.com/code/thedrcat/aimo-mixtral-baseline"
      ],
      "metadata": {
        "execution": {
          "iopub.status.busy": "2024-04-04T13:44:35.370565Z",
          "iopub.execute_input": "2024-04-04T13:44:35.370923Z",
          "iopub.status.idle": "2024-04-04T13:44:35.376016Z",
          "shell.execute_reply.started": "2024-04-04T13:44:35.370892Z",
          "shell.execute_reply": "2024-04-04T13:44:35.37498Z"
        },
        "trusted": true,
        "id": "mpi82iXSKviT"
      },
      "execution_count": null,
      "outputs": []
    },
    {
      "cell_type": "markdown",
      "source": [
        "# Zero-shot MMOS-DeepSeekMath-7B with self-consistency and generated code reasoning evaluation\n",
        "\n",
        "Self-consistency is a modification of the standard greedy decoding in reasoning pipelines via sampling several diverse answers followed by aggregation, e.g., most common answer ([SC-CoT paper](https://arxiv.org/pdf/2203.11171.pdf)).\n",
        "\n",
        "In this kernel, we will consider MMOS-DeepSeekMath-7B RL-tuned backbone; in my experiments, this model produces more consistent code reasoning and the code block execution will allow us to decrease arithmetic hallucinations."
      ],
      "metadata": {
        "id": "afbyMD09KviT"
      }
    },
    {
      "cell_type": "code",
      "source": [
        "!pip install -U /kaggle/input/bitsandbytes-0-42-0-py3-none-any-whl/bitsandbytes-0.42.0-py3-none-any.whl -qq"
      ],
      "metadata": {
        "papermill": {
          "duration": 18.075198,
          "end_time": "2024-02-29T09:25:25.295954",
          "exception": false,
          "start_time": "2024-02-29T09:25:07.220756",
          "status": "completed"
        },
        "tags": [],
        "execution": {
          "iopub.status.busy": "2024-04-04T13:44:35.390481Z",
          "iopub.execute_input": "2024-04-04T13:44:35.390945Z",
          "iopub.status.idle": "2024-04-04T13:45:12.245181Z",
          "shell.execute_reply.started": "2024-04-04T13:44:35.390921Z",
          "shell.execute_reply": "2024-04-04T13:45:12.244023Z"
        },
        "trusted": true,
        "id": "AoFIsL3dKviU"
      },
      "execution_count": null,
      "outputs": []
    },
    {
      "cell_type": "code",
      "source": [
        "import torch\n",
        "from transformers import (\n",
        "    AutoModelForCausalLM,\n",
        "    AutoTokenizer,\n",
        "    BitsAndBytesConfig,\n",
        "    AutoConfig,\n",
        "    set_seed\n",
        ")\n",
        "\n",
        "set_seed(42)\n",
        "\n",
        "MODEL_PATH = \"/kaggle/input/deepseek-math\"\n",
        "\n",
        "quantization_config = BitsAndBytesConfig(\n",
        "    load_in_4bit = True,\n",
        "    bnb_4bit_quant_type=\"nf4\",\n",
        "    bnb_4bit_compute_dtype=torch.bfloat16,\n",
        "    bnb_4bit_use_double_quant=True,\n",
        ")\n",
        "\n",
        "config = AutoConfig.from_pretrained(MODEL_PATH)\n",
        "config.gradient_checkpointing = True\n",
        "\n",
        "\n",
        "tokenizer = AutoTokenizer.from_pretrained(MODEL_PATH)\n",
        "\n",
        "model = AutoModelForCausalLM.from_pretrained(\n",
        "    MODEL_PATH,\n",
        "    device_map=\"auto\",\n",
        "    torch_dtype=\"auto\",\n",
        "    trust_remote_code=True,\n",
        "#     quantization_config=quantization_config,\n",
        "    config=config\n",
        ")"
      ],
      "metadata": {
        "papermill": {
          "duration": 664.688061,
          "end_time": "2024-02-29T09:36:29.988515",
          "exception": false,
          "start_time": "2024-02-29T09:25:25.300454",
          "status": "completed"
        },
        "tags": [],
        "execution": {
          "iopub.status.busy": "2024-04-04T12:37:08.095511Z",
          "iopub.execute_input": "2024-04-04T12:37:08.095821Z",
          "iopub.status.idle": "2024-04-04T12:40:25.502135Z",
          "shell.execute_reply.started": "2024-04-04T12:37:08.095794Z",
          "shell.execute_reply": "2024-04-04T12:40:25.501351Z"
        },
        "trusted": true,
        "id": "wVtaP2aBKviU"
      },
      "execution_count": null,
      "outputs": []
    },
    {
      "cell_type": "code",
      "source": [
        "model.dtype"
      ],
      "metadata": {
        "execution": {
          "iopub.status.busy": "2024-04-04T12:40:25.504773Z",
          "iopub.execute_input": "2024-04-04T12:40:25.505616Z",
          "iopub.status.idle": "2024-04-04T12:40:25.511817Z",
          "shell.execute_reply.started": "2024-04-04T12:40:25.505588Z",
          "shell.execute_reply": "2024-04-04T12:40:25.510912Z"
        },
        "trusted": true,
        "id": "DOGPHkB5KviU"
      },
      "execution_count": null,
      "outputs": []
    },
    {
      "cell_type": "code",
      "source": [
        "import pandas as pd\n",
        "from tqdm import tqdm\n",
        "PRIVATE = True\n",
        "\n",
        "df = pd.read_csv('/kaggle/input/ai-mathematical-olympiad-prize/test.csv')\n",
        "df.head()"
      ],
      "metadata": {
        "papermill": {
          "duration": 1.224774,
          "end_time": "2024-02-29T09:36:31.21757",
          "exception": false,
          "start_time": "2024-02-29T09:36:29.992796",
          "status": "completed"
        },
        "tags": [],
        "execution": {
          "iopub.status.busy": "2024-04-04T12:40:25.513103Z",
          "iopub.execute_input": "2024-04-04T12:40:25.513521Z",
          "iopub.status.idle": "2024-04-04T12:40:26.581977Z",
          "shell.execute_reply.started": "2024-04-04T12:40:25.513491Z",
          "shell.execute_reply": "2024-04-04T12:40:26.581011Z"
        },
        "trusted": true,
        "id": "CrPsTDNMKviU"
      },
      "execution_count": null,
      "outputs": []
    },
    {
      "cell_type": "code",
      "source": [
        "if len(df) < 5:\n",
        "    df = pd.read_csv('/kaggle/input/ai-mathematical-olympiad-prize/train.csv')\n",
        "    PRIVATE = False\n",
        "df.head()"
      ],
      "metadata": {
        "execution": {
          "iopub.status.busy": "2024-04-04T12:40:26.583227Z",
          "iopub.execute_input": "2024-04-04T12:40:26.583508Z",
          "iopub.status.idle": "2024-04-04T12:40:26.597283Z",
          "shell.execute_reply.started": "2024-04-04T12:40:26.583484Z",
          "shell.execute_reply": "2024-04-04T12:40:26.596478Z"
        },
        "trusted": true,
        "id": "rc4HNzd-KviU"
      },
      "execution_count": null,
      "outputs": []
    },
    {
      "cell_type": "code",
      "source": [
        "import gc\n",
        "device = 'cuda'"
      ],
      "metadata": {
        "papermill": {
          "duration": 0.022605,
          "end_time": "2024-02-29T09:36:31.265878",
          "exception": false,
          "start_time": "2024-02-29T09:36:31.243273",
          "status": "completed"
        },
        "tags": [],
        "execution": {
          "iopub.status.busy": "2024-04-04T12:40:26.598214Z",
          "iopub.execute_input": "2024-04-04T12:40:26.598483Z",
          "iopub.status.idle": "2024-04-04T12:40:26.602053Z",
          "shell.execute_reply.started": "2024-04-04T12:40:26.59846Z",
          "shell.execute_reply": "2024-04-04T12:40:26.60119Z"
        },
        "trusted": true,
        "id": "UvCJPpojKviU"
      },
      "execution_count": null,
      "outputs": []
    },
    {
      "cell_type": "code",
      "source": [
        "def naive_parse(answer):\n",
        "    out = []\n",
        "    start = False\n",
        "    end = False\n",
        "    for l in reversed(list(answer)):\n",
        "        if l in '0123456789' and not end:\n",
        "            start = True\n",
        "            out.append(l)\n",
        "        else:\n",
        "            if start:\n",
        "                end = True\n",
        "\n",
        "    out = reversed(out)\n",
        "    return ''.join(out)"
      ],
      "metadata": {
        "execution": {
          "iopub.status.busy": "2024-04-04T12:40:26.603124Z",
          "iopub.execute_input": "2024-04-04T12:40:26.603379Z",
          "iopub.status.idle": "2024-04-04T12:40:26.611697Z",
          "shell.execute_reply.started": "2024-04-04T12:40:26.603357Z",
          "shell.execute_reply": "2024-04-04T12:40:26.61084Z"
        },
        "trusted": true,
        "id": "nSJMTSOFKviV"
      },
      "execution_count": null,
      "outputs": []
    },
    {
      "cell_type": "code",
      "source": [
        "import transformers\n",
        "\n",
        "pipeline = transformers.pipeline(\n",
        "    \"text-generation\",\n",
        "    model=model,\n",
        "    tokenizer=tokenizer,\n",
        "    torch_dtype='auto',\n",
        "    device_map=\"auto\",\n",
        ")"
      ],
      "metadata": {
        "execution": {
          "iopub.status.busy": "2024-04-04T12:40:26.612713Z",
          "iopub.execute_input": "2024-04-04T12:40:26.613019Z",
          "iopub.status.idle": "2024-04-04T12:40:40.822465Z",
          "shell.execute_reply.started": "2024-04-04T12:40:26.612995Z",
          "shell.execute_reply": "2024-04-04T12:40:40.821619Z"
        },
        "trusted": true,
        "id": "-EGxYGn3KviV"
      },
      "execution_count": null,
      "outputs": []
    },
    {
      "cell_type": "code",
      "source": [
        "print(f\"Transformers Version: {transformers.__version__}\")"
      ],
      "metadata": {
        "execution": {
          "iopub.status.busy": "2024-04-04T12:40:40.825482Z",
          "iopub.execute_input": "2024-04-04T12:40:40.826082Z",
          "iopub.status.idle": "2024-04-04T12:40:40.831016Z",
          "shell.execute_reply.started": "2024-04-04T12:40:40.826054Z",
          "shell.execute_reply": "2024-04-04T12:40:40.829919Z"
        },
        "trusted": true,
        "id": "XWg4sQS5KviV"
      },
      "execution_count": null,
      "outputs": []
    },
    {
      "cell_type": "code",
      "source": [
        "import torch\n",
        "\n",
        "torch.backends.cuda.enable_mem_efficient_sdp(False)"
      ],
      "metadata": {
        "execution": {
          "iopub.status.busy": "2024-04-04T12:40:40.832244Z",
          "iopub.execute_input": "2024-04-04T12:40:40.832558Z",
          "iopub.status.idle": "2024-04-04T12:40:40.859753Z",
          "shell.execute_reply.started": "2024-04-04T12:40:40.83253Z",
          "shell.execute_reply": "2024-04-04T12:40:40.858801Z"
        },
        "trusted": true,
        "id": "NYSFeOMaKviV"
      },
      "execution_count": null,
      "outputs": []
    },
    {
      "cell_type": "code",
      "source": [
        "import re\n",
        "import sys\n",
        "import subprocess\n",
        "\n",
        "\n",
        "def process_output(output):\n",
        "    result = output\n",
        "\n",
        "    try:\n",
        "        code = output.split('```')[1][7:]\n",
        "\n",
        "        with open('code.py', 'w') as fout:\n",
        "            fout.write(code)\n",
        "\n",
        "        batcmd = 'timeout 7 ' + sys.executable + ' code.py'\n",
        "        try:\n",
        "            shell_output = subprocess.check_output(batcmd, shell=True).decode('utf8')\n",
        "            print(shell_output)\n",
        "            code_output = round(float(eval(shell_output))) % 1000\n",
        "        except:\n",
        "            code_output = -1\n",
        "\n",
        "        print('CODE RESULTS', code_output)\n",
        "\n",
        "    except Exception as e:\n",
        "        print(e)\n",
        "        print('ERROR PARSING')\n",
        "        code_output = -1\n",
        "\n",
        "    try:\n",
        "        result_output = re.findall(r'\\\\boxed\\{(.*)\\}', result)\n",
        "\n",
        "        print('BOXED', result_output)\n",
        "        if not len(result_output):\n",
        "            result_output = naive_parse(result)\n",
        "        else:\n",
        "            result_output = result_output[-1]\n",
        "\n",
        "        print('BOXED', result_output)\n",
        "        if not len(result_output):\n",
        "            result_output = -1\n",
        "\n",
        "        else:\n",
        "            result_output = round(float(eval(result_output))) % 1000\n",
        "\n",
        "    except Exception as e:\n",
        "        print(e)\n",
        "        print('ERROR PARSING')\n",
        "        result_output = -1\n",
        "\n",
        "    return result_output, code_output"
      ],
      "metadata": {
        "execution": {
          "iopub.status.busy": "2024-04-04T12:40:40.861109Z",
          "iopub.execute_input": "2024-04-04T12:40:40.861474Z",
          "iopub.status.idle": "2024-04-04T12:40:40.873038Z",
          "shell.execute_reply.started": "2024-04-04T12:40:40.861437Z",
          "shell.execute_reply": "2024-04-04T12:40:40.87211Z"
        },
        "trusted": true,
        "id": "vXzMG-wKKviV"
      },
      "execution_count": null,
      "outputs": []
    },
    {
      "cell_type": "code",
      "source": [
        "import re\n",
        "from collections import defaultdict\n",
        "\n",
        "\n",
        "tool_instruction = \" The answer should be given as a non-negative modulo 1000.\"\n",
        "tool_instruction += '\\nPlease integrate natural language reasoning with programs to solve the problem above, and put your final answer within \\\\boxed{}.'\n",
        "\n",
        "\n",
        "n_repetitions = 5 if PRIVATE else 2\n",
        "\n",
        "total_results = []\n",
        "total_answers = []\n",
        "\n",
        "for i in tqdm(range(len(df))):\n",
        "    id_ = df['id'].loc[i]\n",
        "    problem = df['problem'].loc[i]\n",
        "\n",
        "    messages = [\n",
        "        {\n",
        "            \"role\": \"user\",\n",
        "            \"content\": problem + tool_instruction\n",
        "        }\n",
        "    ]\n",
        "\n",
        "    query_prompt = tokenizer.apply_chat_template(\n",
        "        messages,\n",
        "        tokenize=False\n",
        "    )\n",
        "\n",
        "    results = []\n",
        "    answers = []\n",
        "\n",
        "    for _ in tqdm(range(n_repetitions)):\n",
        "        try:\n",
        "            raw_output = pipeline(\n",
        "                query_prompt,\n",
        "                max_new_tokens=2048,\n",
        "                do_sample=True,\n",
        "                temperature=0.7,\n",
        "                return_full_text=False\n",
        "            )\n",
        "            raw_output = raw_output[0]['generated_text']\n",
        "\n",
        "            result_output, code_output = process_output(raw_output)\n",
        "\n",
        "            torch.cuda.empty_cache()\n",
        "            gc.collect()\n",
        "\n",
        "        except Exception as e:\n",
        "            print(e)\n",
        "            result_output, code_output = -1, -1\n",
        "\n",
        "        results.append(result_output)\n",
        "        answers.append(code_output)\n",
        "\n",
        "    total_results.append(results)\n",
        "    total_answers.append(answers)"
      ],
      "metadata": {
        "papermill": {
          "duration": 34.259365,
          "end_time": "2024-02-29T09:37:05.548829",
          "exception": false,
          "start_time": "2024-02-29T09:36:31.289464",
          "status": "completed"
        },
        "tags": [],
        "_kg_hide-output": true,
        "scrolled": true,
        "execution": {
          "iopub.status.busy": "2024-04-04T12:45:19.952503Z",
          "iopub.execute_input": "2024-04-04T12:45:19.953336Z",
          "iopub.status.idle": "2024-04-04T13:12:39.919924Z",
          "shell.execute_reply.started": "2024-04-04T12:45:19.953302Z",
          "shell.execute_reply": "2024-04-04T13:12:39.918812Z"
        },
        "trusted": true,
        "id": "EcpmmKlnKviV"
      },
      "execution_count": null,
      "outputs": []
    },
    {
      "cell_type": "code",
      "source": [
        "import numpy as np\n",
        "from collections import Counter\n",
        "\n",
        "final_answers = []\n",
        "\n",
        "for a, b in zip(total_answers, total_results):\n",
        "    a = np.array(a)\n",
        "    b = np.array(b)\n",
        "    a[a < 0] = b[a < 0]\n",
        "\n",
        "    pred = Counter(a.tolist()).most_common(2)\n",
        "\n",
        "    ans = pred[0][0] if not pred[0][0] < 0 else pred[1][0]\n",
        "\n",
        "    final_answers.append(ans)\n",
        "    print(ans)\n"
      ],
      "metadata": {
        "execution": {
          "iopub.status.busy": "2024-04-04T13:12:39.92153Z",
          "iopub.execute_input": "2024-04-04T13:12:39.921821Z",
          "iopub.status.idle": "2024-04-04T13:12:39.928973Z",
          "shell.execute_reply.started": "2024-04-04T13:12:39.921795Z",
          "shell.execute_reply": "2024-04-04T13:12:39.928093Z"
        },
        "trusted": true,
        "id": "a9fyI9NqKviV"
      },
      "execution_count": null,
      "outputs": []
    },
    {
      "cell_type": "code",
      "source": [
        "df['answer'] = final_answers"
      ],
      "metadata": {
        "execution": {
          "iopub.status.busy": "2024-04-04T13:12:39.930115Z",
          "iopub.execute_input": "2024-04-04T13:12:39.930442Z",
          "iopub.status.idle": "2024-04-04T13:12:39.942032Z",
          "shell.execute_reply.started": "2024-04-04T13:12:39.930409Z",
          "shell.execute_reply": "2024-04-04T13:12:39.941187Z"
        },
        "trusted": true,
        "id": "oteD1Tm0KviV"
      },
      "execution_count": null,
      "outputs": []
    },
    {
      "cell_type": "code",
      "source": [
        "df"
      ],
      "metadata": {
        "execution": {
          "iopub.status.busy": "2024-04-04T13:12:39.943956Z",
          "iopub.execute_input": "2024-04-04T13:12:39.944218Z",
          "iopub.status.idle": "2024-04-04T13:12:39.960357Z",
          "shell.execute_reply.started": "2024-04-04T13:12:39.944196Z",
          "shell.execute_reply": "2024-04-04T13:12:39.959337Z"
        },
        "trusted": true,
        "id": "pn16BQiHKviV"
      },
      "execution_count": null,
      "outputs": []
    },
    {
      "cell_type": "code",
      "source": [
        "df[['id','answer']].to_csv(\"submission.csv\", header=True, index=False)"
      ],
      "metadata": {
        "papermill": {
          "duration": 0.021128,
          "end_time": "2024-02-29T09:37:05.574782",
          "exception": false,
          "start_time": "2024-02-29T09:37:05.553654",
          "status": "completed"
        },
        "tags": [],
        "execution": {
          "iopub.status.busy": "2024-04-04T13:12:39.961513Z",
          "iopub.execute_input": "2024-04-04T13:12:39.961884Z",
          "iopub.status.idle": "2024-04-04T13:12:39.984974Z",
          "shell.execute_reply.started": "2024-04-04T13:12:39.96183Z",
          "shell.execute_reply": "2024-04-04T13:12:39.984163Z"
        },
        "trusted": true,
        "id": "JvVJvud3KviV"
      },
      "execution_count": null,
      "outputs": []
    },
    {
      "cell_type": "code",
      "source": [
        "df[['id','answer']].head()"
      ],
      "metadata": {
        "papermill": {
          "duration": 0.014339,
          "end_time": "2024-02-29T09:37:05.594605",
          "exception": false,
          "start_time": "2024-02-29T09:37:05.580266",
          "status": "completed"
        },
        "tags": [],
        "execution": {
          "iopub.status.busy": "2024-04-04T13:12:39.986047Z",
          "iopub.execute_input": "2024-04-04T13:12:39.986376Z",
          "iopub.status.idle": "2024-04-04T13:12:39.996355Z",
          "shell.execute_reply.started": "2024-04-04T13:12:39.986346Z",
          "shell.execute_reply": "2024-04-04T13:12:39.995483Z"
        },
        "trusted": true,
        "id": "oJFGsJNFKviW"
      },
      "execution_count": null,
      "outputs": []
    },
    {
      "cell_type": "code",
      "source": [
        "if not PRIVATE:\n",
        "    df = pd.read_csv('/kaggle/input/ai-mathematical-olympiad-prize/train.csv')\n",
        "    df['model_answer'] = final_answers\n",
        "    df['match'] = df.answer == df.model_answer\n",
        "    print(f'{df.match.sum()} matches in {len(df)} examples')"
      ],
      "metadata": {
        "execution": {
          "iopub.status.busy": "2024-04-04T13:12:39.997483Z",
          "iopub.execute_input": "2024-04-04T13:12:39.997778Z",
          "iopub.status.idle": "2024-04-04T13:12:40.012306Z",
          "shell.execute_reply.started": "2024-04-04T13:12:39.997733Z",
          "shell.execute_reply": "2024-04-04T13:12:40.011372Z"
        },
        "trusted": true,
        "id": "ak_sXzYBKviW"
      },
      "execution_count": null,
      "outputs": []
    },
    {
      "cell_type": "code",
      "source": [],
      "metadata": {
        "id": "i4Aw2xO7KviW"
      },
      "execution_count": null,
      "outputs": []
    }
  ]
}